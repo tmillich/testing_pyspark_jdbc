{
 "cells": [
  {
   "cell_type": "code",
   "execution_count": 1,
   "metadata": {},
   "outputs": [],
   "source": [
    "\n",
    "URL = 'jdbc:oracle:thin:system/\"123456\"@localhost:1521/XE'\n",
    "# USER: sys and system have more rights -> only with serivce name XE\n",
    "SERVICE_NAME = \"XE\"\n",
    "USER = \"system\"\n",
    "PASSWORD = \"123456\"\n",
    "DBTABLE = \"system.test_table\"\n",
    "DRIVER = \"oracle.jdbc.OracleDriver\"\n",
    "BUILD_PATH = \"/workspaces/testing_pyspark/build/*\""
   ]
  },
  {
   "cell_type": "code",
   "execution_count": 8,
   "metadata": {},
   "outputs": [],
   "source": [
    "from pyspark import SparkConf\n",
    "from pyspark.sql import SparkSession, SQLContext\n",
    "\n",
    "conf = SparkConf() \\\n",
    "        .setAppName(\"SarkTest\") \\\n",
    "        .set(\"spark.driver.host\", \"127.0.0.1\") \\\n",
    "        .set(\"spark.driver.extraClassPath\", BUILD_PATH) \\\n",
    "        .set(\"spark.executor.extraClassPath\", BUILD_PATH)\n",
    "\n",
    "spark = SparkSession.builder.config(conf=conf).getOrCreate()\n",
    "\n",
    "sc = spark.sparkContext\n",
    "sql_context = SQLContext(sparkContext=sc, sparkSession=spark)\n",
    "sc.setLogLevel(\"WARN\")"
   ]
  },
  {
   "cell_type": "code",
   "execution_count": 10,
   "metadata": {},
   "outputs": [
    {
     "data": {
      "text/plain": [
       "3"
      ]
     },
     "execution_count": 10,
     "metadata": {},
     "output_type": "execute_result"
    }
   ],
   "source": [
    "jdbcDF = spark.read \\\n",
    "    .format(\"jdbc\") \\\n",
    "    .option(\"url\", URL) \\\n",
    "    .option(\"dbtable\", DBTABLE) \\\n",
    "    .option(\"driver\", DRIVER) \\\n",
    "    .option(\"oracle.jdbc.mapDateToTimestamp\", \"false\") \\\n",
    "    .load()\n",
    "\n",
    "jdbcDF.count()"
   ]
  },
  {
   "cell_type": "code",
   "execution_count": 11,
   "metadata": {},
   "outputs": [
    {
     "name": "stdout",
     "output_type": "stream",
     "text": [
      "+---+-------------------+--------------------------+\n",
      "|ID |TODAY              |RIGHT_NOW                 |\n",
      "+---+-------------------+--------------------------+\n",
      "|1  |2024-08-04 03:37:59|2024-08-04 03:37:59.403974|\n",
      "|2  |2024-08-04 03:37:59|2024-08-04 03:37:59.406956|\n",
      "|3  |2024-08-04 03:37:59|2024-08-04 03:37:59.411245|\n",
      "+---+-------------------+--------------------------+\n",
      "\n"
     ]
    }
   ],
   "source": [
    "jdbcDF.show(truncate=False)"
   ]
  },
  {
   "cell_type": "code",
   "execution_count": 12,
   "metadata": {},
   "outputs": [
    {
     "name": "stdout",
     "output_type": "stream",
     "text": [
      "+---+-------------------+--------------------------+\n",
      "|ID |TODAY              |RIGHT_NOW                 |\n",
      "+---+-------------------+--------------------------+\n",
      "|1  |2024-08-04 03:37:59|2024-08-04 03:37:59.403974|\n",
      "|2  |2024-08-04 03:37:59|2024-08-04 03:37:59.406956|\n",
      "|3  |2024-08-04 03:37:59|2024-08-04 03:37:59.411245|\n",
      "+---+-------------------+--------------------------+\n",
      "\n"
     ]
    }
   ],
   "source": [
    "jdbcDF.write.parquet(\"build/test.parquet\", mode=\"overwrite\")\n",
    "output_parquet = spark.read.parquet(\"build/test.parquet\")\n",
    "output_parquet.show(truncate=False)"
   ]
  },
  {
   "cell_type": "code",
   "execution_count": 13,
   "metadata": {},
   "outputs": [
    {
     "name": "stdout",
     "output_type": "stream",
     "text": [
      "Etc/UTC\n"
     ]
    }
   ],
   "source": [
    "print(spark.conf.get(\"spark.sql.session.timeZone\"))"
   ]
  }
 ],
 "metadata": {
  "kernelspec": {
   "display_name": "Python 3",
   "language": "python",
   "name": "python3"
  },
  "language_info": {
   "codemirror_mode": {
    "name": "ipython",
    "version": 3
   },
   "file_extension": ".py",
   "mimetype": "text/x-python",
   "name": "python",
   "nbconvert_exporter": "python",
   "pygments_lexer": "ipython3",
   "version": "3.12.4"
  }
 },
 "nbformat": 4,
 "nbformat_minor": 2
}
